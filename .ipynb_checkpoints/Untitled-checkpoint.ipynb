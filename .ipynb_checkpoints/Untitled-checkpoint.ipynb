{
 "cells": [
  {
   "cell_type": "code",
   "execution_count": 1,
   "metadata": {},
   "outputs": [],
   "source": [
    "import tensorflow as tf"
   ]
  },
  {
   "cell_type": "code",
   "execution_count": 2,
   "metadata": {},
   "outputs": [
    {
     "ename": "NameError",
     "evalue": "name 'b' is not defined",
     "output_type": "error",
     "traceback": [
      "\u001b[1;31m---------------------------------------------------------------------------\u001b[0m",
      "\u001b[1;31mNameError\u001b[0m                                 Traceback (most recent call last)",
      "\u001b[1;32m<ipython-input-2-df46df61760c>\u001b[0m in \u001b[0;36m<module>\u001b[1;34m\u001b[0m\n\u001b[0;32m      1\u001b[0m \u001b[0mA\u001b[0m \u001b[1;33m=\u001b[0m \u001b[0mtf\u001b[0m\u001b[1;33m.\u001b[0m\u001b[0mrandom_normal\u001b[0m\u001b[1;33m(\u001b[0m\u001b[1;33m[\u001b[0m\u001b[1;36m2\u001b[0m\u001b[1;33m,\u001b[0m \u001b[1;36m3\u001b[0m\u001b[1;33m]\u001b[0m\u001b[1;33m,\u001b[0m \u001b[1;36m0.0\u001b[0m\u001b[1;33m,\u001b[0m \u001b[1;36m0.05\u001b[0m\u001b[1;33m)\u001b[0m\u001b[1;33m\u001b[0m\u001b[1;33m\u001b[0m\u001b[0m\n\u001b[1;32m----> 2\u001b[1;33m \u001b[0mb\u001b[0m\u001b[1;33m\u001b[0m\u001b[1;33m\u001b[0m\u001b[0m\n\u001b[0m\u001b[0;32m      3\u001b[0m \u001b[1;32mwith\u001b[0m \u001b[0mtf\u001b[0m\u001b[1;33m.\u001b[0m\u001b[0mSession\u001b[0m\u001b[1;33m(\u001b[0m\u001b[1;33m)\u001b[0m \u001b[1;32mas\u001b[0m \u001b[0msess\u001b[0m\u001b[1;33m:\u001b[0m\u001b[1;33m\u001b[0m\u001b[1;33m\u001b[0m\u001b[0m\n\u001b[0;32m      4\u001b[0m     \u001b[0mprint\u001b[0m\u001b[1;33m(\u001b[0m\u001b[0msess\u001b[0m\u001b[1;33m.\u001b[0m\u001b[0mrun\u001b[0m\u001b[1;33m(\u001b[0m\u001b[0mA\u001b[0m\u001b[1;33m)\u001b[0m\u001b[1;33m)\u001b[0m\u001b[1;33m\u001b[0m\u001b[1;33m\u001b[0m\u001b[0m\n\u001b[0;32m      5\u001b[0m     \u001b[0mprint\u001b[0m\u001b[1;33m(\u001b[0m\u001b[0mtf\u001b[0m\u001b[1;33m.\u001b[0m\u001b[0margmax\u001b[0m\u001b[1;33m(\u001b[0m\u001b[0mA\u001b[0m\u001b[1;33m,\u001b[0m\u001b[0maxis\u001b[0m\u001b[1;33m=\u001b[0m\u001b[1;33m-\u001b[0m\u001b[1;36m1\u001b[0m\u001b[1;33m)\u001b[0m\u001b[1;33m)\u001b[0m\u001b[1;33m\u001b[0m\u001b[1;33m\u001b[0m\u001b[0m\n",
      "\u001b[1;31mNameError\u001b[0m: name 'b' is not defined"
     ]
    }
   ],
   "source": [
    "A = tf.random_normal([2, 3], 0.0, 0.05)\n",
    "b\n",
    "with tf.Session() as sess:\n",
    "    print(sess.run(A))\n",
    "    print(tf.argmax(A,axis=-1))\n",
    "    print(tf.argmax(A,axis=1))"
   ]
  },
  {
   "cell_type": "code",
   "execution_count": 3,
   "metadata": {},
   "outputs": [],
   "source": [
    "import utils"
   ]
  },
  {
   "cell_type": "code",
   "execution_count": null,
   "metadata": {},
   "outputs": [],
   "source": [
    "utils.find_all_data_and_extract?\n"
   ]
  },
  {
   "cell_type": "code",
   "execution_count": 4,
   "metadata": {},
   "outputs": [],
   "source": [
    "import numpy as np\n",
    "import tensorflow as tf"
   ]
  },
  {
   "cell_type": "code",
   "execution_count": 5,
   "metadata": {},
   "outputs": [],
   "source": [
    "sess = tf.Session()\n",
    "\n",
    "def my_func(arg):\n",
    "  arg = tf.convert_to_tensor(arg, dtype=tf.float32)\n",
    "  return  arg"
   ]
  },
  {
   "cell_type": "code",
   "execution_count": 6,
   "metadata": {},
   "outputs": [
    {
     "name": "stdout",
     "output_type": "stream",
     "text": [
      "[[1. 2. 1.]\n",
      " [3. 4. 5.]]\n",
      "[1 2]\n",
      "[1 2]\n",
      "[1 2]\n",
      "[1 1 1]\n"
     ]
    }
   ],
   "source": [
    "value_1 = my_func(tf.constant([[1.0, 2.0,1.0], \n",
    "                               [3.0, 4.0,5.0]]))\n",
    "with tf.Session() as sess:\n",
    "    print(sess.run(value_1))\n",
    "    print(sess.run(tf.argmax(value_1,axis=1)))\n",
    "    print(sess.run(tf.argmax(value_1,axis=-1)))\n",
    "    print(sess.run(tf.argmax(value_1,1)))\n",
    "    print(sess.run(tf.argmax(value_1,axis=0)))"
   ]
  },
  {
   "cell_type": "code",
   "execution_count": null,
   "metadata": {},
   "outputs": [],
   "source": []
  },
  {
   "cell_type": "code",
   "execution_count": null,
   "metadata": {},
   "outputs": [],
   "source": []
  },
  {
   "cell_type": "code",
   "execution_count": null,
   "metadata": {},
   "outputs": [],
   "source": [
    "\n",
    "\n",
    "\n",
    "# The following calls are equivalent.\n",
    "\n",
    "#[[1. 2.]\n",
    "# [3. 4.]]\n",
    "\n",
    "value_2 = my_func([[1.0, 2.0], [3.0, 4.0]])\n",
    "#[[1. 2.]\n",
    "# [3. 4.]]\n",
    "\n",
    "value_3 = my_func(np.array([[1.0, 2.0], [3.0, 4.0]], dtype=np.float32))\n",
    "#[[1. 2.]\n",
    "# [3. 4.]]\n",
    "\n",
    "print(sess.run(value_1))\n",
    "print(sess.run(value_2))\n",
    "print(sess.run(value_3))\n",
    "\n",
    "#常量矩阵\n",
    "A1= tf.fill([2, 3], 9.0)\n",
    "print(sess.run(A1))\n",
    "#[[9. 9. 9.]\n",
    " #[9. 9. 9.]]\n",
    "\n",
    "#对角矩阵\n",
    "#对角矩阵(diagonal matrix)是一个主对角线之外的元素皆为0的矩阵 。\n",
    "A2 = tf.diag([1.0, 2.0, 3.0])\n",
    "print(sess.run(A2))\n",
    "#[[1. 0. 0.]\n",
    "# [0. 2. 0.]\n",
    "# [0. 0. 3.]]\n",
    "\n",
    "#从均匀分布中输出随机值\n",
    "A3= tf.random_uniform([3, 2])\n",
    "print(sess.run(A3))\n",
    "#[[0.21950924 0.82714176]\n",
    "# [0.63310266 0.9047049 ]\n",
    "# [0.78585243 0.9848778 ]]\n",
    "\n",
    "\n",
    "#从正态分布中输出随机值\n",
    "A4 = tf.truncated_normal([2, 3])\n",
    "print(sess.run(A4))\n",
    "#[[-0.5070633   0.7598405   1.0642177 ]\n",
    "# [-0.70871496 -0.014733   -0.53850174]]\n"
   ]
  },
  {
   "cell_type": "code",
   "execution_count": 1,
   "metadata": {},
   "outputs": [],
   "source": [
    "import tensorflow as tf\n",
    "gpu_options = tf.GPUOptions(allow_growth=True)#修改某个GPU设置\n",
    "sess = tf.Session(config=tf.ConfigProto(gpu_options=gpu_options))#应用这个设置更新并创建Session"
   ]
  },
  {
   "cell_type": "code",
   "execution_count": 2,
   "metadata": {},
   "outputs": [
    {
     "name": "stdout",
     "output_type": "stream",
     "text": [
      "var1:0\n",
      "[1.]\n",
      "a_name_scope/var2:0\n",
      "[2.]\n",
      "a_name_scope/var2_1:0\n",
      "[2.1]\n",
      "a_name_scope/var2_2:0\n",
      "[2.2]\n"
     ]
    }
   ],
   "source": [
    "with tf.name_scope(\"a_name_scope\"):\n",
    "    initializer = tf.constant_initializer(value=1)\n",
    "    var1 = tf.get_variable(name='var1', shape=[1], dtype=tf.float32, initializer=initializer)\n",
    "    var2 = tf.Variable(name='var2', initial_value=[2], dtype=tf.float32)\n",
    "    var21 = tf.Variable(name='var2', initial_value=[2.1], dtype=tf.float32)\n",
    "    var22 = tf.Variable(name='var2', initial_value=[2.2], dtype=tf.float32)\n",
    "\n",
    "\n",
    "\n",
    "sess.run(tf.global_variables_initializer())\n",
    "print(var1.name)        # var1:0\n",
    "print(sess.run(var1))   # [ 1.]\n",
    "print(var2.name)        # a_name_scope/var2:0\n",
    "print(sess.run(var2))   # [ 2.]\n",
    "print(var21.name)       # a_name_scope/var2_1:0\n",
    "print(sess.run(var21))  # [ 2.0999999]\n",
    "print(var22.name)       # a_name_scope/var2_2:0\n",
    "print(sess.run(var22))  # [ 2.20000005]\n",
    "\n",
    "\n",
    "sess.close()"
   ]
  },
  {
   "cell_type": "code",
   "execution_count": 6,
   "metadata": {},
   "outputs": [],
   "source": [
    "matrixA = tf.constant([[1,2,3,4],[5,6,7,8],[9,10,11,12]])"
   ]
  },
  {
   "cell_type": "code",
   "execution_count": 10,
   "metadata": {},
   "outputs": [
    {
     "name": "stdout",
     "output_type": "stream",
     "text": [
      "[[ 1  2  3  4]\n",
      " [ 5  6  7  8]\n",
      " [ 9 10 11 12]]\n"
     ]
    }
   ],
   "source": [
    "with tf.Session(config=tf.ConfigProto(gpu_options=gpu_options)) as sess:\n",
    "    print(sess.run(matrixA))"
   ]
  },
  {
   "cell_type": "code",
   "execution_count": 13,
   "metadata": {},
   "outputs": [
    {
     "name": "stdout",
     "output_type": "stream",
     "text": [
      "5\n",
      "7\n",
      "9\n"
     ]
    }
   ],
   "source": [
    "# 构建Graph\n",
    "x1 = tf.placeholder(tf.int16)\n",
    "x2 = tf.placeholder(tf.int16)\n",
    "y = tf.add(x1, x2)\n",
    "\n",
    "# X_1，X_2是变量，可以赋予不同的值\n",
    "X_1 = [1, 2, 3]\n",
    "X_2 = [4, 5, 6]\n",
    "\n",
    "# 喂数据 -> 启动session，计算图 \n",
    "with tf.Session(config=tf.ConfigProto(gpu_options=gpu_options)) as sess:\n",
    "    for i in range(3):\n",
    "        print(sess.run(y, feed_dict={x1: X_1[i], x2: X_2[i]}))"
   ]
  },
  {
   "cell_type": "code",
   "execution_count": null,
   "metadata": {},
   "outputs": [],
   "source": []
  }
 ],
 "metadata": {
  "kernelspec": {
   "display_name": "Python 3",
   "language": "python",
   "name": "python3"
  },
  "language_info": {
   "codemirror_mode": {
    "name": "ipython",
    "version": 3
   },
   "file_extension": ".py",
   "mimetype": "text/x-python",
   "name": "python",
   "nbconvert_exporter": "python",
   "pygments_lexer": "ipython3",
   "version": "3.7.3"
  }
 },
 "nbformat": 4,
 "nbformat_minor": 2
}
